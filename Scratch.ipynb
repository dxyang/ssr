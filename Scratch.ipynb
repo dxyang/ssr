{
 "cells": [
  {
   "cell_type": "code",
   "execution_count": 2,
   "id": "7a59e35c",
   "metadata": {},
   "outputs": [],
   "source": [
    "import os\n",
    "\n",
    "import numpy as np\n",
    "import matplotlib.pyplot as plt\n",
    "import seaborn\n",
    "import h5py\n",
    "\n",
    "data_path = os.path.expanduser(\"~/data/ssr/data\")"
   ]
  },
  {
   "cell_type": "code",
   "execution_count": null,
   "id": "ae86badb",
   "metadata": {},
   "outputs": [],
   "source": []
  }
 ],
 "metadata": {
  "kernelspec": {
   "display_name": "Python 3",
   "language": "python",
   "name": "python3"
  },
  "language_info": {
   "codemirror_mode": {
    "name": "ipython",
    "version": 3
   },
   "file_extension": ".py",
   "mimetype": "text/x-python",
   "name": "python",
   "nbconvert_exporter": "python",
   "pygments_lexer": "ipython3",
   "version": "3.8.6"
  }
 },
 "nbformat": 4,
 "nbformat_minor": 5
}
